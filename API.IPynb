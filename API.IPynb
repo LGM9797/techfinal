{
 "cells": [
  {
   "cell_type": "code",
   "execution_count": null,
   "metadata": {},
   "outputs": [
    {
     "ename": "",
     "evalue": "",
     "output_type": "error",
     "traceback": [
      "\u001b[1;31mFailed to start the Kernel. \n",
      "\u001b[1;31mConnection is disposed. \n",
      "\u001b[1;31mView Jupyter <a href='command:jupyter.viewOutput'>log</a> for further details."
     ]
    }
   ],
   "source": [
    "import pandas as pd\n",
    "import numpy as np\n",
    "import pickle\n",
    "from flask import Flask, request, jsonify\n",
    "from sklearn.preprocessing import StandardScaler"
   ]
  },
  {
   "cell_type": "code",
   "execution_count": null,
   "metadata": {},
   "outputs": [
    {
     "ename": "",
     "evalue": "",
     "output_type": "error",
     "traceback": [
      "\u001b[1;31mFailed to start the Kernel. \n",
      "\u001b[1;31mConnection is disposed. \n",
      "\u001b[1;31mView Jupyter <a href='command:jupyter.viewOutput'>log</a> for further details."
     ]
    }
   ],
   "source": [
    "# Carregar modelos treinados\n",
    "with open(\"knn_model.pkl\", \"rb\") as knn_file:\n",
    "    knn = pickle.load(knn_file)\n",
    "with open(\"scaler.pkl\", \"rb\") as scaler_file:\n",
    "    scaler = pickle.load(scaler_file)\n",
    "with open(\"kmeans_model.pkl\", \"rb\") as kmeans_file:\n",
    "    kmeans = pickle.load(kmeans_file)\n",
    "with open(\"history_mapping.pkl\", \"rb\") as history_file:\n",
    "    history_mapping = pickle.load(history_file)\n",
    "\n",
    "# Criar Flask API\n",
    "app = Flask(__name__)\n",
    "\n",
    "# Carregar os dados\n",
    "features_df = pd.read_excel(\"treino_feature.xlsx\")\n",
    "user_ids = features_df[\"userId\"]\n",
    "X = features_df.drop(columns=[\"userId\"])\n",
    "X_scaled = scaler.transform(X)\n",
    "\n",
    "# Função para recomendar páginas tratando cold-start\n",
    "def recomendar_paginas(user_id):\n",
    "    if user_id not in history_mapping or len(history_mapping[user_id]) == 0:\n",
    "        # Cold-start: Buscar recomendação baseada no cluster mais próximo\n",
    "        user_features = np.zeros((1, X_scaled.shape[1]))  # Usuário sem histórico\n",
    "        cluster_pred = knn.predict(user_features)[0]  # Encontrar cluster mais próximo\n",
    "        \n",
    "        # Encontrar usuários no mesmo cluster\n",
    "        similar_users = features_df[features_df[\"cluster\"] == cluster_pred][\"userId\"]\n",
    "        recomendacoes = set()\n",
    "        for similar_user in similar_users:\n",
    "            recomendacoes.update(history_mapping.get(similar_user, []))\n",
    "        \n",
    "        return list(recomendacoes)[:6]  # Retorna sugestões baseadas no cluster\n",
    "    \n",
    "    user_index = user_ids[user_ids == user_id].index[0]\n",
    "    user_features = X_scaled[user_index].reshape(1, -1)\n",
    "    neighbors = knn.kneighbors(user_features, n_neighbors=6, return_distance=False)[0]\n",
    "    \n",
    "    recomendacoes = set()\n",
    "    for neighbor in neighbors:\n",
    "        neighbor_id = user_ids.iloc[neighbor]\n",
    "        recomendacoes.update(history_mapping.get(neighbor_id, []))\n",
    "    \n",
    "    return list(recomendacoes)[:6]  # Retorna as top 6 páginas recomendadas dos usuários mais similares\n",
    "\n",
    "# Criar endpoint para recomendação\n",
    "@app.route(\"/recommend\", methods=[\"GET\"])\n",
    "def recommend():\n",
    "    user_id = request.args.get(\"user_id\")\n",
    "    if not user_id:\n",
    "        return jsonify({\"error\": \"User ID is required\"}), 400\n",
    "    \n",
    "    recomendacoes = recomendar_paginas(user_id)\n",
    "    return jsonify({\"user_id\": user_id, \"recommendations\": recomendacoes})\n",
    "\n",
    "# Rodar a API\n",
    "if __name__ == \"__main__\":\n",
    "    app.run(host=\"0.0.0.0\", port=5000, debug=True)\n"
   ]
  }
 ],
 "metadata": {
  "kernelspec": {
   "display_name": "Python 3",
   "language": "python",
   "name": "python3"
  },
  "language_info": {
   "codemirror_mode": {
    "name": "ipython",
    "version": 3
   },
   "file_extension": ".py",
   "mimetype": "text/x-python",
   "name": "python",
   "nbconvert_exporter": "python",
   "pygments_lexer": "ipython3",
   "version": "3.12.6"
  }
 },
 "nbformat": 4,
 "nbformat_minor": 2
}
